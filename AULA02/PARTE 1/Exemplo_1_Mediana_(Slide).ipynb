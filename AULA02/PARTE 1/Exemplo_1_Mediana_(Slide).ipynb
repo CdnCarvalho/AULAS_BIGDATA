{
  "cells": [
    {
      "cell_type": "markdown",
      "metadata": {
        "id": "vCi48Ei-cwBS"
      },
      "source": [
        "import numpy as np\n",
        "dados_salario = [2000, 2500, 3000, 3500, 4000, 30000]\n",
        "\n",
        "media = np.mean(dados_salario)\n",
        "\n",
        "mediana = np.median(dados_salario)\n",
        "\n",
        "print('Média: ', media)\n",
        "\n",
        "print('Mediana: ', mediana)"
      ]
    },
    {
      "cell_type": "code",
      "execution_count": null,
      "metadata": {
        "id": "t1TE7SieTWR7"
      },
      "outputs": [],
      "source": [
        "import numpy as np\n",
        "dados_salario = [2000, 2500, 3000, 3500, 4000, 30000]\n",
        "\n",
        "media = np.mean(dados_salario)\n",
        "mediana = np.median(dados_salario)\n",
        "print('Média: ', media)\n",
        "print('Mediana: ', mediana)"
      ]
    },
    {
      "cell_type": "code",
      "execution_count": null,
      "metadata": {
        "id": "fBrxulznaVcm"
      },
      "outputs": [],
      "source": [
        "import numpy as np\n",
        "dados_salario = [2000, 2500, 3000, 3500, 4000, 30000]\n",
        "\n",
        "media = np.mean(dados_salario)\n",
        "print('Média: ', media)"
      ]
    },
    {
      "cell_type": "code",
      "execution_count": null,
      "metadata": {
        "id": "hZF9cuAIaX0i"
      },
      "outputs": [],
      "source": [
        "import numpy as np\n",
        "dados_salario = [2000, 2500, 3000, 3500, 4000, 30000]\n",
        "\n",
        "mediana = np.median(dados_salario)\n",
        "print('Mediana: ', mediana)"
      ]
    },
    {
      "cell_type": "code",
      "execution_count": null,
      "metadata": {},
      "outputs": [],
      "source": [
        "# Comentado\n",
        "import numpy as np  # Importa a biblioteca NumPy, que é útil para operações matemáticas e manipulação de arrays\n",
        "\n",
        "# Lista de salários em uma moeda fictícia, representando uma pequena amostra de dados com um valor atípico (30000)\n",
        "dados_salario = [2000, 2500, 3000, 3500, 4000, 30000]\n",
        "\n",
        "# Calcula a média aritmética dos salários\n",
        "# A média é sensível a valores atípicos, então o valor alto (30000) influencia este cálculo\n",
        "media = np.mean(dados_salario)\n",
        "\n",
        "# Calcula a mediana dos salários\n",
        "# A mediana é o valor central e não sofre grande influência de valores extremos, \n",
        "# sendo útil para representar a posição central quando há valores atípicos\n",
        "mediana = np.median(dados_salario)\n",
        "\n",
        "# Exibe a média e a mediana\n",
        "print('Média: ', media)       # Mostra o valor da média calculada\n",
        "print('Mediana: ', mediana)    # Mostra o valor da mediana calculada\n"
      ]
    }
  ],
  "metadata": {
    "colab": {
      "provenance": []
    },
    "kernelspec": {
      "display_name": "Python 3",
      "name": "python3"
    },
    "language_info": {
      "name": "python"
    }
  },
  "nbformat": 4,
  "nbformat_minor": 0
}
